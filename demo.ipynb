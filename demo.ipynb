{
  "cells": [
    {
      "cell_type": "code",
      "execution_count": null,
      "metadata": {
        "id": "Lh9_0EMK5YZh"
      },
      "outputs": [],
      "source": [
        "!git clone https://github.com/Yairama/SAM-Rock-Fragmentation.git"
      ]
    },
    {
      "cell_type": "code",
      "source": [
        "using_colab = True"
      ],
      "metadata": {
        "id": "CfNQAwcc5ZIk"
      },
      "execution_count": null,
      "outputs": []
    },
    {
      "cell_type": "code",
      "execution_count": null,
      "metadata": {
        "id": "8ppyhy1I5YZj"
      },
      "outputs": [],
      "source": [
        "%cd SAM-Rock-Fragmentation\n",
        "!mkdir models\n",
        "!wget -O /content/SAM-Rock-Fragmentation/models/sam_vit_b.pth https://dl.fbaipublicfiles.com/segment_anything/sam_vit_b_01ec64.pth"
      ]
    },
    {
      "cell_type": "code",
      "execution_count": null,
      "metadata": {
        "id": "i7HmZxlN5YZj"
      },
      "outputs": [],
      "source": [
        "!pip install -r requirements.txt"
      ]
    },
    {
      "cell_type": "markdown",
      "metadata": {
        "id": "WG5Kbfg75YZj"
      },
      "source": [
        "# Copy the colab IP:"
      ]
    },
    {
      "cell_type": "code",
      "execution_count": null,
      "metadata": {
        "id": "7cA4HJuj5YZk"
      },
      "outputs": [],
      "source": [
        "!curl ipv4.icanhazip.com"
      ]
    },
    {
      "cell_type": "markdown",
      "metadata": {
        "id": "qBQsoc685YZl"
      },
      "source": [
        "## Click in the last link generated:"
      ]
    },
    {
      "cell_type": "code",
      "execution_count": null,
      "metadata": {
        "id": "XyyI3LQp5YZl"
      },
      "outputs": [],
      "source": [
        "!streamlit run app.py & npx localtunnel --port 8501"
      ]
    }
  ],
  "metadata": {
    "kernelspec": {
      "display_name": "Yairama",
      "language": "python",
      "name": "python3"
    },
    "language_info": {
      "codemirror_mode": {
        "name": "ipython",
        "version": 3
      },
      "file_extension": ".py",
      "mimetype": "text/x-python",
      "name": "python",
      "nbconvert_exporter": "python",
      "pygments_lexer": "ipython3",
      "version": "3.9.16"
    },
    "orig_nbformat": 4,
    "colab": {
      "provenance": []
    }
  },
  "nbformat": 4,
  "nbformat_minor": 0
}